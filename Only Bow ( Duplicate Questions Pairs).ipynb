{
 "cells": [
  {
   "cell_type": "code",
   "execution_count": 11,
   "id": "b365eafb-fa84-4caf-8870-bb5878ef2894",
   "metadata": {},
   "outputs": [],
   "source": [
    "import pandas as pd\n",
    "import numpy as np\n",
    "import seaborn as sns\n",
    "import matplotlib.pyplot as plt"
   ]
  },
  {
   "cell_type": "code",
   "execution_count": 29,
   "id": "f8c1e2f8-46b5-4ce2-a91f-c1058c7184c7",
   "metadata": {},
   "outputs": [],
   "source": [
    "df = pd.read_csv(\"duplicate_questions_pairs.xls\")"
   ]
  },
  {
   "cell_type": "code",
   "execution_count": 30,
   "id": "a2b19f3e-31b2-4422-8fed-094f800a5276",
   "metadata": {},
   "outputs": [
    {
     "data": {
      "text/html": [
       "<div>\n",
       "<style scoped>\n",
       "    .dataframe tbody tr th:only-of-type {\n",
       "        vertical-align: middle;\n",
       "    }\n",
       "\n",
       "    .dataframe tbody tr th {\n",
       "        vertical-align: top;\n",
       "    }\n",
       "\n",
       "    .dataframe thead th {\n",
       "        text-align: right;\n",
       "    }\n",
       "</style>\n",
       "<table border=\"1\" class=\"dataframe\">\n",
       "  <thead>\n",
       "    <tr style=\"text-align: right;\">\n",
       "      <th></th>\n",
       "      <th>id</th>\n",
       "      <th>qid1</th>\n",
       "      <th>qid2</th>\n",
       "      <th>question1</th>\n",
       "      <th>question2</th>\n",
       "      <th>is_duplicate</th>\n",
       "    </tr>\n",
       "  </thead>\n",
       "  <tbody>\n",
       "    <tr>\n",
       "      <th>0</th>\n",
       "      <td>0</td>\n",
       "      <td>1</td>\n",
       "      <td>2</td>\n",
       "      <td>What is the step by step guide to invest in sh...</td>\n",
       "      <td>What is the step by step guide to invest in sh...</td>\n",
       "      <td>0</td>\n",
       "    </tr>\n",
       "    <tr>\n",
       "      <th>1</th>\n",
       "      <td>1</td>\n",
       "      <td>3</td>\n",
       "      <td>4</td>\n",
       "      <td>What is the story of Kohinoor (Koh-i-Noor) Dia...</td>\n",
       "      <td>What would happen if the Indian government sto...</td>\n",
       "      <td>0</td>\n",
       "    </tr>\n",
       "    <tr>\n",
       "      <th>2</th>\n",
       "      <td>2</td>\n",
       "      <td>5</td>\n",
       "      <td>6</td>\n",
       "      <td>How can I increase the speed of my internet co...</td>\n",
       "      <td>How can Internet speed be increased by hacking...</td>\n",
       "      <td>0</td>\n",
       "    </tr>\n",
       "    <tr>\n",
       "      <th>3</th>\n",
       "      <td>3</td>\n",
       "      <td>7</td>\n",
       "      <td>8</td>\n",
       "      <td>Why am I mentally very lonely? How can I solve...</td>\n",
       "      <td>Find the remainder when [math]23^{24}[/math] i...</td>\n",
       "      <td>0</td>\n",
       "    </tr>\n",
       "    <tr>\n",
       "      <th>4</th>\n",
       "      <td>4</td>\n",
       "      <td>9</td>\n",
       "      <td>10</td>\n",
       "      <td>Which one dissolve in water quikly sugar, salt...</td>\n",
       "      <td>Which fish would survive in salt water?</td>\n",
       "      <td>0</td>\n",
       "    </tr>\n",
       "  </tbody>\n",
       "</table>\n",
       "</div>"
      ],
      "text/plain": [
       "   id  qid1  qid2                                          question1  \\\n",
       "0   0     1     2  What is the step by step guide to invest in sh...   \n",
       "1   1     3     4  What is the story of Kohinoor (Koh-i-Noor) Dia...   \n",
       "2   2     5     6  How can I increase the speed of my internet co...   \n",
       "3   3     7     8  Why am I mentally very lonely? How can I solve...   \n",
       "4   4     9    10  Which one dissolve in water quikly sugar, salt...   \n",
       "\n",
       "                                           question2  is_duplicate  \n",
       "0  What is the step by step guide to invest in sh...             0  \n",
       "1  What would happen if the Indian government sto...             0  \n",
       "2  How can Internet speed be increased by hacking...             0  \n",
       "3  Find the remainder when [math]23^{24}[/math] i...             0  \n",
       "4            Which fish would survive in salt water?             0  "
      ]
     },
     "execution_count": 30,
     "metadata": {},
     "output_type": "execute_result"
    }
   ],
   "source": [
    "df.head()"
   ]
  },
  {
   "cell_type": "code",
   "execution_count": 31,
   "id": "05e65de2-121f-4f54-984a-85a7c540cdab",
   "metadata": {},
   "outputs": [
    {
     "data": {
      "text/plain": [
       "(404290, 6)"
      ]
     },
     "execution_count": 31,
     "metadata": {},
     "output_type": "execute_result"
    }
   ],
   "source": [
    "df.shape"
   ]
  },
  {
   "cell_type": "code",
   "execution_count": 55,
   "id": "088f3691-0f6f-4e56-8990-e9106a197387",
   "metadata": {},
   "outputs": [],
   "source": [
    "new_df = df.sample(3000)"
   ]
  },
  {
   "cell_type": "code",
   "execution_count": 57,
   "id": "040750a8-864e-44bb-90ae-f025f8c1d4b1",
   "metadata": {},
   "outputs": [
    {
     "data": {
      "text/html": [
       "<div>\n",
       "<style scoped>\n",
       "    .dataframe tbody tr th:only-of-type {\n",
       "        vertical-align: middle;\n",
       "    }\n",
       "\n",
       "    .dataframe tbody tr th {\n",
       "        vertical-align: top;\n",
       "    }\n",
       "\n",
       "    .dataframe thead th {\n",
       "        text-align: right;\n",
       "    }\n",
       "</style>\n",
       "<table border=\"1\" class=\"dataframe\">\n",
       "  <thead>\n",
       "    <tr style=\"text-align: right;\">\n",
       "      <th></th>\n",
       "      <th>id</th>\n",
       "      <th>qid1</th>\n",
       "      <th>qid2</th>\n",
       "      <th>question1</th>\n",
       "      <th>question2</th>\n",
       "      <th>is_duplicate</th>\n",
       "    </tr>\n",
       "  </thead>\n",
       "  <tbody>\n",
       "    <tr>\n",
       "      <th>13523</th>\n",
       "      <td>13523</td>\n",
       "      <td>25959</td>\n",
       "      <td>6740</td>\n",
       "      <td>What might happen now that President-elect Don...</td>\n",
       "      <td>What will happen if Donald Trump became the pr...</td>\n",
       "      <td>1</td>\n",
       "    </tr>\n",
       "    <tr>\n",
       "      <th>110150</th>\n",
       "      <td>110150</td>\n",
       "      <td>104540</td>\n",
       "      <td>180658</td>\n",
       "      <td>Who won World War 2?</td>\n",
       "      <td>World War II: What country won World War II? W...</td>\n",
       "      <td>0</td>\n",
       "    </tr>\n",
       "    <tr>\n",
       "      <th>151421</th>\n",
       "      <td>151421</td>\n",
       "      <td>21548</td>\n",
       "      <td>14490</td>\n",
       "      <td>What will be the effects of demonitizing 500 a...</td>\n",
       "      <td>What can be the possible effects of removing 5...</td>\n",
       "      <td>1</td>\n",
       "    </tr>\n",
       "    <tr>\n",
       "      <th>186520</th>\n",
       "      <td>186520</td>\n",
       "      <td>284463</td>\n",
       "      <td>284464</td>\n",
       "      <td>In The Vampire Diaries (TV series), what does ...</td>\n",
       "      <td>Which is the best Dork Diaries series?</td>\n",
       "      <td>0</td>\n",
       "    </tr>\n",
       "    <tr>\n",
       "      <th>142641</th>\n",
       "      <td>142641</td>\n",
       "      <td>226176</td>\n",
       "      <td>226177</td>\n",
       "      <td>Is there justice in the play Othello?</td>\n",
       "      <td>Which MNC gives the best environment as a soft...</td>\n",
       "      <td>0</td>\n",
       "    </tr>\n",
       "    <tr>\n",
       "      <th>...</th>\n",
       "      <td>...</td>\n",
       "      <td>...</td>\n",
       "      <td>...</td>\n",
       "      <td>...</td>\n",
       "      <td>...</td>\n",
       "      <td>...</td>\n",
       "    </tr>\n",
       "    <tr>\n",
       "      <th>81180</th>\n",
       "      <td>81180</td>\n",
       "      <td>137880</td>\n",
       "      <td>137881</td>\n",
       "      <td>Why can metal-poor stars supply the record of ...</td>\n",
       "      <td>Do all stars in a galaxy travel at the same sp...</td>\n",
       "      <td>0</td>\n",
       "    </tr>\n",
       "    <tr>\n",
       "      <th>281292</th>\n",
       "      <td>281292</td>\n",
       "      <td>160850</td>\n",
       "      <td>401049</td>\n",
       "      <td>What is the most ridiculous reason for which y...</td>\n",
       "      <td>What are the most common reasons why janitors ...</td>\n",
       "      <td>0</td>\n",
       "    </tr>\n",
       "    <tr>\n",
       "      <th>271973</th>\n",
       "      <td>271973</td>\n",
       "      <td>17201</td>\n",
       "      <td>336574</td>\n",
       "      <td>What are the best lines to start anchoring in ...</td>\n",
       "      <td>What are tips for anchoring?</td>\n",
       "      <td>0</td>\n",
       "    </tr>\n",
       "    <tr>\n",
       "      <th>146345</th>\n",
       "      <td>146345</td>\n",
       "      <td>1932</td>\n",
       "      <td>21592</td>\n",
       "      <td>Do long distance relationships work?</td>\n",
       "      <td>Can long distance relationships work out?</td>\n",
       "      <td>1</td>\n",
       "    </tr>\n",
       "    <tr>\n",
       "      <th>14388</th>\n",
       "      <td>14388</td>\n",
       "      <td>27564</td>\n",
       "      <td>27565</td>\n",
       "      <td>What is the worth of a 1929 penny in 2016? Wha...</td>\n",
       "      <td>How much would a penny from 1800 be worth in 2...</td>\n",
       "      <td>0</td>\n",
       "    </tr>\n",
       "  </tbody>\n",
       "</table>\n",
       "<p>3000 rows × 6 columns</p>\n",
       "</div>"
      ],
      "text/plain": [
       "            id    qid1    qid2  \\\n",
       "13523    13523   25959    6740   \n",
       "110150  110150  104540  180658   \n",
       "151421  151421   21548   14490   \n",
       "186520  186520  284463  284464   \n",
       "142641  142641  226176  226177   \n",
       "...        ...     ...     ...   \n",
       "81180    81180  137880  137881   \n",
       "281292  281292  160850  401049   \n",
       "271973  271973   17201  336574   \n",
       "146345  146345    1932   21592   \n",
       "14388    14388   27564   27565   \n",
       "\n",
       "                                                question1  \\\n",
       "13523   What might happen now that President-elect Don...   \n",
       "110150                               Who won World War 2?   \n",
       "151421  What will be the effects of demonitizing 500 a...   \n",
       "186520  In The Vampire Diaries (TV series), what does ...   \n",
       "142641              Is there justice in the play Othello?   \n",
       "...                                                   ...   \n",
       "81180   Why can metal-poor stars supply the record of ...   \n",
       "281292  What is the most ridiculous reason for which y...   \n",
       "271973  What are the best lines to start anchoring in ...   \n",
       "146345               Do long distance relationships work?   \n",
       "14388   What is the worth of a 1929 penny in 2016? Wha...   \n",
       "\n",
       "                                                question2  is_duplicate  \n",
       "13523   What will happen if Donald Trump became the pr...             1  \n",
       "110150  World War II: What country won World War II? W...             0  \n",
       "151421  What can be the possible effects of removing 5...             1  \n",
       "186520             Which is the best Dork Diaries series?             0  \n",
       "142641  Which MNC gives the best environment as a soft...             0  \n",
       "...                                                   ...           ...  \n",
       "81180   Do all stars in a galaxy travel at the same sp...             0  \n",
       "281292  What are the most common reasons why janitors ...             0  \n",
       "271973                       What are tips for anchoring?             0  \n",
       "146345          Can long distance relationships work out?             1  \n",
       "14388   How much would a penny from 1800 be worth in 2...             0  \n",
       "\n",
       "[3000 rows x 6 columns]"
      ]
     },
     "execution_count": 57,
     "metadata": {},
     "output_type": "execute_result"
    }
   ],
   "source": [
    "new_df"
   ]
  },
  {
   "cell_type": "code",
   "execution_count": 59,
   "id": "3ec37b7e-2e7a-4b77-ab5a-a483d25d6d94",
   "metadata": {},
   "outputs": [
    {
     "data": {
      "text/plain": [
       "id              0\n",
       "qid1            0\n",
       "qid2            0\n",
       "question1       0\n",
       "question2       0\n",
       "is_duplicate    0\n",
       "dtype: int64"
      ]
     },
     "execution_count": 59,
     "metadata": {},
     "output_type": "execute_result"
    }
   ],
   "source": [
    "new_df.isnull().sum()"
   ]
  },
  {
   "cell_type": "code",
   "execution_count": 61,
   "id": "2ae9c2bf-c15c-4718-90ca-48363d570026",
   "metadata": {},
   "outputs": [
    {
     "data": {
      "text/plain": [
       "0"
      ]
     },
     "execution_count": 61,
     "metadata": {},
     "output_type": "execute_result"
    }
   ],
   "source": [
    "new_df.duplicated().sum()"
   ]
  },
  {
   "cell_type": "code",
   "execution_count": 63,
   "id": "26e60368-1798-4823-9389-28f60d30fd0f",
   "metadata": {},
   "outputs": [
    {
     "data": {
      "text/html": [
       "<div>\n",
       "<style scoped>\n",
       "    .dataframe tbody tr th:only-of-type {\n",
       "        vertical-align: middle;\n",
       "    }\n",
       "\n",
       "    .dataframe tbody tr th {\n",
       "        vertical-align: top;\n",
       "    }\n",
       "\n",
       "    .dataframe thead th {\n",
       "        text-align: right;\n",
       "    }\n",
       "</style>\n",
       "<table border=\"1\" class=\"dataframe\">\n",
       "  <thead>\n",
       "    <tr style=\"text-align: right;\">\n",
       "      <th></th>\n",
       "      <th>question1</th>\n",
       "      <th>question1</th>\n",
       "    </tr>\n",
       "  </thead>\n",
       "  <tbody>\n",
       "    <tr>\n",
       "      <th>13523</th>\n",
       "      <td>What might happen now that President-elect Don...</td>\n",
       "      <td>What might happen now that President-elect Don...</td>\n",
       "    </tr>\n",
       "    <tr>\n",
       "      <th>110150</th>\n",
       "      <td>Who won World War 2?</td>\n",
       "      <td>Who won World War 2?</td>\n",
       "    </tr>\n",
       "    <tr>\n",
       "      <th>151421</th>\n",
       "      <td>What will be the effects of demonitizing 500 a...</td>\n",
       "      <td>What will be the effects of demonitizing 500 a...</td>\n",
       "    </tr>\n",
       "    <tr>\n",
       "      <th>186520</th>\n",
       "      <td>In The Vampire Diaries (TV series), what does ...</td>\n",
       "      <td>In The Vampire Diaries (TV series), what does ...</td>\n",
       "    </tr>\n",
       "    <tr>\n",
       "      <th>142641</th>\n",
       "      <td>Is there justice in the play Othello?</td>\n",
       "      <td>Is there justice in the play Othello?</td>\n",
       "    </tr>\n",
       "  </tbody>\n",
       "</table>\n",
       "</div>"
      ],
      "text/plain": [
       "                                                question1  \\\n",
       "13523   What might happen now that President-elect Don...   \n",
       "110150                               Who won World War 2?   \n",
       "151421  What will be the effects of demonitizing 500 a...   \n",
       "186520  In The Vampire Diaries (TV series), what does ...   \n",
       "142641              Is there justice in the play Othello?   \n",
       "\n",
       "                                                question1  \n",
       "13523   What might happen now that President-elect Don...  \n",
       "110150                               Who won World War 2?  \n",
       "151421  What will be the effects of demonitizing 500 a...  \n",
       "186520  In The Vampire Diaries (TV series), what does ...  \n",
       "142641              Is there justice in the play Othello?  "
      ]
     },
     "execution_count": 63,
     "metadata": {},
     "output_type": "execute_result"
    }
   ],
   "source": [
    "ques_df = new_df[['question1','question1']]\n",
    "ques_df.head()"
   ]
  },
  {
   "cell_type": "code",
   "execution_count": null,
   "id": "fada900a-9eae-4700-87fa-814aace7a6e7",
   "metadata": {},
   "outputs": [],
   "source": []
  },
  {
   "cell_type": "code",
   "execution_count": null,
   "id": "58ab332c-8bb0-4412-ab45-885005773f57",
   "metadata": {},
   "outputs": [],
   "source": []
  },
  {
   "cell_type": "code",
   "execution_count": null,
   "id": "9bd90040-f21e-413f-a073-67715e0e6b77",
   "metadata": {},
   "outputs": [],
   "source": []
  },
  {
   "cell_type": "code",
   "execution_count": null,
   "id": "2b571628-f35e-4926-ac45-704b98705a99",
   "metadata": {},
   "outputs": [],
   "source": []
  }
 ],
 "metadata": {
  "kernelspec": {
   "display_name": "Python [conda env:base] *",
   "language": "python",
   "name": "conda-base-py"
  },
  "language_info": {
   "codemirror_mode": {
    "name": "ipython",
    "version": 3
   },
   "file_extension": ".py",
   "mimetype": "text/x-python",
   "name": "python",
   "nbconvert_exporter": "python",
   "pygments_lexer": "ipython3",
   "version": "3.12.2"
  }
 },
 "nbformat": 4,
 "nbformat_minor": 5
}
